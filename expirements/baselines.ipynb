{
 "cells": [
  {
   "metadata": {
    "collapsed": true,
    "ExecuteTime": {
     "end_time": "2024-12-15T11:15:50.413776Z",
     "start_time": "2024-12-15T11:15:50.022811Z"
    }
   },
   "cell_type": "code",
   "source": [
    "import sys\n",
    "import pandas as pd\n",
    "from sklearn.model_selection import train_test_split\n",
    "from sklearn.linear_model import LogisticRegression\n",
    "from sklearn.neural_network import MLPClassifier\n",
    "from sklearn.metrics import f1_score, accuracy_score, confusion_matrix, recall_score, precision_score\n",
    "from sklearn.preprocessing import StandardScaler, LabelEncoder\n",
    "\n",
    "sys.path.append(\"../\")\n",
    "\n",
    "from fwc2.utils import preprocess"
   ],
   "id": "initial_id",
   "outputs": [],
   "execution_count": 1
  },
  {
   "metadata": {
    "ExecuteTime": {
     "end_time": "2024-12-15T11:25:42.243145Z",
     "start_time": "2024-12-15T11:25:42.225826Z"
    }
   },
   "cell_type": "code",
   "source": [
    "import torch\n",
    "from fwc2.model import MLP\n",
    "from torchmetrics.classification import Accuracy, MulticlassConfusionMatrix \n",
    "\n",
    "encoder = MLP(input_dim=32, hidden_dims=[64, 128, 64])\n",
    "classifier = MLP(input_dim=64, hidden_dims=[32, 5])\n",
    "\n",
    "batch = torch.randn(32, 32)\n",
    "\n",
    "logits = encoder(batch)\n",
    "\n",
    "print(f'shape of logits = {logits.shape}')\n",
    "\n",
    "logits = classifier(logits)\n",
    "\n",
    "print(f'shape of logits = {logits.shape}')\n",
    "\n",
    "# y = torch.randn(32)\n",
    "# \n",
    "# y.shape\n",
    "\n",
    "y_pred = torch.argmax(logits, dim=1)\n",
    "y_pred"
   ],
   "id": "8e54808dc67f2d90",
   "outputs": [
    {
     "name": "stdout",
     "output_type": "stream",
     "text": [
      "shape of logits = torch.Size([32, 64])\n",
      "shape of logits = torch.Size([32, 5])\n"
     ]
    },
    {
     "data": {
      "text/plain": [
       "tensor([4, 3, 4, 2, 4, 3, 2, 2, 3, 4, 2, 3, 4, 4, 4, 2, 4, 2, 4, 4, 4, 2, 2, 2,\n",
       "        2, 4, 4, 4, 2, 4, 3, 4])"
      ]
     },
     "execution_count": 10,
     "metadata": {},
     "output_type": "execute_result"
    }
   ],
   "execution_count": 10
  },
  {
   "metadata": {
    "ExecuteTime": {
     "end_time": "2024-12-14T10:04:49.637327Z",
     "start_time": "2024-12-14T10:04:15.787410Z"
    }
   },
   "cell_type": "code",
   "source": [
    "RANDOM_STATE=42\n",
    "\n",
    "for dataset in ['dapt20','scvic-apt-2021','mscad']:\n",
    "    data = pd.read_csv(f'../datasets/{dataset}/all.csv')\n",
    "    data = preprocess(data, pretraing=False)\n",
    "    features, targets = data.drop(columns=['label']), data['label']\n",
    "    \n",
    "    scaler = StandardScaler()\n",
    "    features = scaler.fit_transform(features)\n",
    "    \n",
    "    encoder = LabelEncoder()\n",
    "    targets = encoder.fit_transform(targets)\n",
    "    \n",
    "    print(encoder.classes_)\n",
    "    \n",
    "    X_train, X_test, y_train, y_test = train_test_split(features, targets, test_size=0.2, random_state=RANDOM_STATE, stratify=targets)\n",
    "    \n",
    "    m = LogisticRegression(max_iter=1000, random_state=RANDOM_STATE)\n",
    "    m.fit(X_train, y_train)\n",
    "    \n",
    "    y_pred = m.predict(X_test)\n",
    "    \n",
    "    f1 = f1_score(y_test, y_pred, average='macro')\n",
    "    f1_weighted = f1_score(y_test, y_pred, average='weighted')\n",
    "    recall = recall_score(y_test, y_pred, average='weighted')\n",
    "    precision = precision_score(y_test, y_pred, average='weighted')\n",
    "    accuracy = accuracy_score(y_test, y_pred)\n",
    "    conf_matrix = confusion_matrix(y_test, y_pred)\n",
    "    \n",
    "    print(f'-----------------{dataset}---------------------')\n",
    "    print('Results of LR')\n",
    "    print(f\"F1 Score (macro): {f1}\")\n",
    "    print(f\"F1 Score (weighted): {f1_weighted}\")\n",
    "    print(f\"Accuracy: {accuracy}\")\n",
    "    print(f\"Recall: {recall}\")\n",
    "    print(f\"precision: {precision}\")\n",
    "    print(\"Confusion Matrix:\")\n",
    "    print(conf_matrix)\n",
    "    \n",
    "    # m = MLPClassifier(hidden_layer_sizes=(64, 32), max_iter=1000, random_state=RANDOM_STATE)\n",
    "    # m.fit(X_train, y_train)\n",
    "    # y_pred = m.predict(X_test)\n",
    "    # \n",
    "    # f1 = f1_score(y_test, y_pred, average='macro')\n",
    "    # accuracy = accuracy_score(y_test, y_pred)\n",
    "    # conf_matrix = confusion_matrix(y_test, y_pred)\n",
    "    # \n",
    "    # print(f'Results of MLP on {dataset}')\n",
    "    # print(f\"F1 Score (weighted): {f1}\")\n",
    "    # print(f\"Accuracy: {accuracy}\")\n",
    "    # print(\"Confusion Matrix:\")\n",
    "    # print(conf_matrix)"
   ],
   "id": "ec76e62308d8a882",
   "outputs": [
    {
     "name": "stdout",
     "output_type": "stream",
     "text": [
      "shape = (82577, 77)\n",
      "['benign' 'data exfiltration' 'establish foothold' 'lateral movement'\n",
      " 'reconnaissance']\n"
     ]
    },
    {
     "name": "stderr",
     "output_type": "stream",
     "text": [
      "C:\\Users\\client\\Projects\\PhD\\FWC2L\\.envs\\Lib\\site-packages\\sklearn\\metrics\\_classification.py:1531: UndefinedMetricWarning: Precision is ill-defined and being set to 0.0 in labels with no predicted samples. Use `zero_division` parameter to control this behavior.\n",
      "  _warn_prf(average, modifier, f\"{metric.capitalize()} is\", len(result))\n"
     ]
    },
    {
     "name": "stdout",
     "output_type": "stream",
     "text": [
      "-----------------dapt20---------------------\n",
      "Results of LR\n",
      "F1 Score (macro): 0.4900676399057381\n",
      "F1 Score (weighted): 0.8779230761477849\n",
      "Accuracy: 0.8802373456042626\n",
      "Recall: 0.8802373456042626\n",
      "precision: 0.8786905862890275\n",
      "Confusion Matrix:\n",
      "[[11624     0   162     0   597]\n",
      " [    1     0     0     0     2]\n",
      " [  238     0  1461     0    22]\n",
      " [   19     0     1     1     6]\n",
      " [  588     0   342     0  1452]]\n",
      "shape = (313238, 77)\n",
      "['dataexfiltration' 'initialcompromise' 'lateralmovement' 'normaltraffic'\n",
      " 'pivoting' 'reconnaissance']\n",
      "-----------------scvic-apt-2021---------------------\n",
      "Results of LR\n",
      "F1 Score (macro): 0.7258582905594535\n",
      "F1 Score (weighted): 0.9949778725821264\n",
      "Accuracy: 0.9952113395479505\n",
      "Recall: 0.9952113395479505\n",
      "precision: 0.994993575161262\n",
      "Confusion Matrix:\n",
      "[[   45     0    11     8    41    15]\n",
      " [    0    17     0     7     2     4]\n",
      " [    1     1   105    21    34    12]\n",
      " [    2     3     7 61579     4    16]\n",
      " [   17     2    12     9   436    20]\n",
      " [    1     1     7    17    25   166]]\n",
      "shape = (128799, 67)\n",
      "['benign' 'brute_force' 'http_ddos' 'icmp_flood' 'port_scan' 'web_crwling']\n",
      "-----------------mscad---------------------\n",
      "Results of LR\n",
      "F1 Score (macro): 0.7606895827125532\n",
      "F1 Score (weighted): 0.9898669152498613\n",
      "Accuracy: 0.9900232919254658\n",
      "Recall: 0.9900232919254658\n",
      "precision: 0.9898490249837154\n",
      "Confusion Matrix:\n",
      "[[ 5569    95    14     0    22     0]\n",
      " [   11 17687     3     0     0     0]\n",
      " [    3     1   122     0     2     0]\n",
      " [    4     0     0     5     0     0]\n",
      " [   61    31     4     0  2120     0]\n",
      " [    6     0     0     0     0     0]]\n"
     ]
    },
    {
     "name": "stderr",
     "output_type": "stream",
     "text": [
      "C:\\Users\\client\\Projects\\PhD\\FWC2L\\.envs\\Lib\\site-packages\\sklearn\\metrics\\_classification.py:1531: UndefinedMetricWarning: Precision is ill-defined and being set to 0.0 in labels with no predicted samples. Use `zero_division` parameter to control this behavior.\n",
      "  _warn_prf(average, modifier, f\"{metric.capitalize()} is\", len(result))\n"
     ]
    }
   ],
   "execution_count": 11
  },
  {
   "metadata": {
    "ExecuteTime": {
     "end_time": "2024-12-14T09:32:53.162879Z",
     "start_time": "2024-12-14T09:32:52.275421Z"
    }
   },
   "cell_type": "code",
   "source": [
    "import seaborn as sns\n",
    "import matplotlib.pyplot as plt\n",
    "\n",
    "def plot_confusion_matrix(cm, title=\"Confusion Matrix\"):\n",
    "    plt.figure(figsize=(8, 6))\n",
    "    sns.heatmap(cm, annot=True, fmt=\"d\", cmap=\"Blues\", xticklabels=True, yticklabels=True)\n",
    "    plt.title(title)\n",
    "    plt.xlabel(\"Predicted\")\n",
    "    plt.ylabel(\"True\")\n",
    "    plt.show()"
   ],
   "id": "f4f540b9a9b1483e",
   "outputs": [],
   "execution_count": 3
  },
  {
   "metadata": {
    "ExecuteTime": {
     "end_time": "2024-12-14T09:33:12.844422Z",
     "start_time": "2024-12-14T09:33:12.611729Z"
    }
   },
   "cell_type": "code",
   "source": "plot_confusion_matrix(conf_matrix)",
   "id": "195e06be573e4a73",
   "outputs": [
    {
     "data": {
      "text/plain": [
       "<Figure size 800x600 with 2 Axes>"
      ],
      "image/png": "[encoded data removed]"
     },
     "metadata": {},
     "output_type": "display_data"
    }
   ],
   "execution_count": 4
  },
  {
   "metadata": {
    "ExecuteTime": {
     "end_time": "2024-12-14T09:58:12.103536Z",
     "start_time": "2024-12-14T09:58:07.685394Z"
    }
   },
   "cell_type": "code",
   "source": [
    "for dataset in ['dapt20','scvic-apt-2021','mscad']:\n",
    "    data = pd.read_csv(f'../datasets/{dataset}/all.csv')\n",
    "    data = preprocess(data, pretraing=False)\n",
    "    print(data.label.value_counts() / len(data) * 100)"
   ],
   "id": "b1c3c0aba9575ae4",
   "outputs": [
    {
     "name": "stdout",
     "output_type": "stream",
     "text": [
      "shape = (82577, 77)\n",
      "label\n",
      "benign                74.974872\n",
      "reconnaissance        14.421691\n",
      "establish foothold    10.419366\n",
      "lateral movement       0.165906\n",
      "data exfiltration      0.018165\n",
      "Name: count, dtype: float64\n",
      "shape = (313238, 77)\n",
      "label\n",
      "normaltraffic        98.344390\n",
      "pivoting              0.792369\n",
      "reconnaissance        0.346063\n",
      "lateralmovement       0.277425\n",
      "dataexfiltration      0.191867\n",
      "initialcompromise     0.047887\n",
      "Name: count, dtype: float64\n",
      "shape = (128799, 67)\n",
      "label\n",
      "brute_force    68.713266\n",
      "benign         22.129054\n",
      "port_scan       8.603328\n",
      "http_ddos       0.497675\n",
      "icmp_flood      0.034938\n",
      "web_crwling     0.021739\n",
      "Name: count, dtype: float64\n"
     ]
    }
   ],
   "execution_count": 8
  },
  {
   "metadata": {},
   "cell_type": "code",
   "outputs": [],
   "execution_count": null,
   "source": "",
   "id": "116b356a6bce0e37"
  }
 ],
 "metadata": {
  "kernelspec": {
   "display_name": "Python 3",
   "language": "python",
   "name": "python3"
  },
  "language_info": {
   "codemirror_mode": {
    "name": "ipython",
    "version": 2
   },
   "file_extension": ".py",
   "mimetype": "text/x-python",
   "name": "python",
   "nbconvert_exporter": "python",
   "pygments_lexer": "ipython2",
   "version": "2.7.6"
  }
 },
 "nbformat": 4,
 "nbformat_minor": 5
}
