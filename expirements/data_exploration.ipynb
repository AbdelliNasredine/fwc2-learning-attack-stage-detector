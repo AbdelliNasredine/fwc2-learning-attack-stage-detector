{
 "cells": [
  {
   "cell_type": "code",
   "id": "initial_id",
   "metadata": {
    "collapsed": true,
    "ExecuteTime": {
     "end_time": "2024-12-12T10:16:17.540505Z",
     "start_time": "2024-12-12T10:16:15.391269Z"
    }
   },
   "source": [
    "import sys\n",
    "import pandas as pd\n",
    "from sklearn.model_selection import train_test_split\n",
    "\n",
    "sys.path.append(\"../\")\n",
    "\n",
    "from fwc2.utils import preprocess"
   ],
   "outputs": [],
   "execution_count": 2
  },
  {
   "metadata": {
    "ExecuteTime": {
     "end_time": "2024-12-12T10:35:26.937614Z",
     "start_time": "2024-12-12T10:35:23.366040Z"
    }
   },
   "cell_type": "code",
   "source": [
    "# dapt20_df = pd.read_csv('../datasets/dapt20/all.csv')\n",
    "# train_df = pd.read_csv('../datasets/SCVIC-APT-2021/Training.csv')\n",
    "# test_df = pd.read_csv('../datasets/SCVIC-APT-2021/Testing.csv')\n",
    "# cic_ids = pd.read_csv('../datasets/cicids17/Wednesday-workingHours.pcap_ISCX.csv')\n",
    "# mscad_df = pd.read_csv('../datasets/mscad/all.csv')\n",
    "\n",
    "dapt20_train = pd.read_csv(\"../datasets/dapt20/train.csv\")\n",
    "scvic_apt_train = pd.read_csv(\"../datasets/SCVIC-APT-2021/train.csv\")\n",
    "scvic_apt_test = pd.read_csv(\"../datasets/SCVIC-APT-2021/test.csv\")\n",
    "mscad_train = pd.read_csv(\"../datasets/mscad/train.csv\")"
   ],
   "id": "44b33d48dc5cacf5",
   "outputs": [],
   "execution_count": 11
  },
  {
   "metadata": {
    "ExecuteTime": {
     "end_time": "2024-12-12T10:35:28.631769Z",
     "start_time": "2024-12-12T10:35:28.624004Z"
    }
   },
   "cell_type": "code",
   "source": "scvic_apt_train.shape, scvic_apt_test.shape, dapt20_train.shape, mscad_train.shape",
   "id": "cd9763537705db85",
   "outputs": [
    {
     "data": {
      "text/plain": [
       "((259120, 84), (56487, 84), (69352, 86), (103039, 67))"
      ]
     },
     "execution_count": 12,
     "metadata": {},
     "output_type": "execute_result"
    }
   ],
   "execution_count": 12
  },
  {
   "metadata": {
    "ExecuteTime": {
     "end_time": "2024-12-12T10:37:44.897616Z",
     "start_time": "2024-12-12T10:37:36.954511Z"
    }
   },
   "cell_type": "code",
   "source": [
    "df = pd.concat([scvic_apt_train, scvic_apt_test], ignore_index=True)\n",
    "print(df.shape)\n",
    "\n",
    "df.to_csv('../datasets/scvic-apt-2021/all.csv', index=False)"
   ],
   "id": "be9eb1f467476386",
   "outputs": [
    {
     "name": "stdout",
     "output_type": "stream",
     "text": [
      "(315607, 84)\n"
     ]
    }
   ],
   "execution_count": 13
  },
  {
   "metadata": {
    "ExecuteTime": {
     "end_time": "2024-12-12T10:17:28.457863Z",
     "start_time": "2024-12-12T10:17:27.745505Z"
    }
   },
   "cell_type": "code",
   "source": [
    "dapt20_train = preprocess(dapt20_train)\n",
    "mscad_train = preprocess(mscad_train)\n",
    "scvic_apt_train = preprocess(scvic_apt_train)\n",
    "scvic_apt_test = preprocess(scvic_apt_test)"
   ],
   "id": "7c9cd24a74be99de",
   "outputs": [
    {
     "name": "stdout",
     "output_type": "stream",
     "text": [
      "selected features = Index(['flow_duration', 'total_fwd_packet', 'total_bwd_packets',\n",
      "       'total_length_of_fwd_packet', 'total_length_of_bwd_packet',\n",
      "       'fwd_packet_length_max', 'fwd_packet_length_min',\n",
      "       'fwd_packet_length_mean', 'fwd_packet_length_std',\n",
      "       'bwd_packet_length_max', 'bwd_packet_length_min',\n",
      "       'bwd_packet_length_mean', 'bwd_packet_length_std', 'flow_bytes/s',\n",
      "       'flow_packets/s', 'flow_iat_mean', 'flow_iat_std', 'flow_iat_max',\n",
      "       'flow_iat_min', 'fwd_iat_total', 'fwd_iat_mean', 'fwd_iat_std',\n",
      "       'fwd_iat_max', 'fwd_iat_min', 'bwd_iat_total', 'bwd_iat_mean',\n",
      "       'bwd_iat_std', 'bwd_iat_max', 'bwd_iat_min', 'bwd_psh_flags',\n",
      "       'fwd_header_length', 'bwd_header_length', 'fwd_packets/s',\n",
      "       'bwd_packets/s', 'packet_length_min', 'packet_length_max',\n",
      "       'packet_length_mean', 'packet_length_std', 'packet_length_variance',\n",
      "       'fin_flag_count', 'syn_flag_count', 'rst_flag_count', 'psh_flag_count',\n",
      "       'ack_flag_count', 'cwr_flag_count', 'ece_flag_count', 'down/up_ratio',\n",
      "       'average_packet_size', 'fwd_segment_size_avg', 'bwd_segment_size_avg',\n",
      "       'subflow_fwd_packets', 'subflow_fwd_bytes', 'subflow_bwd_packets',\n",
      "       'subflow_bwd_bytes', 'bwd_init_win_bytes', 'fwd_act_data_pkts',\n",
      "       'active_mean', 'active_std', 'active_max', 'active_min', 'idle_mean',\n",
      "       'idle_std', 'idle_max', 'idle_min', 'label'],\n",
      "      dtype='object')\n",
      "selected features = Index(['flow_duration', 'tot_fwd_pkts', 'tot_bwd_pkts', 'totlen_fwd_pkts',\n",
      "       'totlen_bwd_pkts', 'fwd_pkt_len_max', 'fwd_pkt_len_min',\n",
      "       'fwd_pkt_len_mean', 'fwd_pkt_len_std', 'bwd_pkt_len_max',\n",
      "       'bwd_pkt_len_min', 'bwd_pkt_len_mean', 'bwd_pkt_len_std', 'flow_byts/s',\n",
      "       'flow_pkts/s', 'flow_iat_mean', 'flow_iat_std', 'flow_iat_max',\n",
      "       'flow_iat_min', 'fwd_iat_tot', 'fwd_iat_mean', 'fwd_iat_std',\n",
      "       'fwd_iat_max', 'fwd_iat_min', 'bwd_iat_tot', 'bwd_iat_mean',\n",
      "       'bwd_iat_std', 'bwd_iat_max', 'bwd_iat_min', 'bwd_psh_flags',\n",
      "       'bwd_urg_flags', 'fwd_header_len', 'bwd_header_len', 'fwd_pkts/s',\n",
      "       'bwd_pkts/s', 'pkt_len_min', 'pkt_len_max', 'pkt_len_mean',\n",
      "       'pkt_len_std', 'pkt_len_var', 'fin_flag_cnt', 'syn_flag_cnt',\n",
      "       'rst_flag_cnt', 'psh_flag_cnt', 'ack_flag_cnt', 'urg_flag_cnt',\n",
      "       'cwe_flag_count', 'ece_flag_cnt', 'down/up_ratio', 'pkt_size_avg',\n",
      "       'fwd_seg_size_avg', 'bwd_seg_size_avg', 'subflow_fwd_pkts',\n",
      "       'subflow_fwd_byts', 'subflow_bwd_pkts', 'subflow_bwd_byts',\n",
      "       'init_bwd_win_byts', 'fwd_act_data_pkts', 'active_mean', 'active_std',\n",
      "       'active_max', 'active_min', 'idle_mean', 'idle_std', 'idle_max',\n",
      "       'idle_min', 'label'],\n",
      "      dtype='object')\n",
      "selected features = Index(['flow_duration', 'total_fwd_packet', 'total_bwd_packets',\n",
      "       'total_length_of_fwd_packet', 'total_length_of_bwd_packet',\n",
      "       'fwd_packet_length_max', 'fwd_packet_length_min',\n",
      "       'fwd_packet_length_mean', 'fwd_packet_length_std',\n",
      "       'bwd_packet_length_max', 'bwd_packet_length_min',\n",
      "       'bwd_packet_length_mean', 'bwd_packet_length_std', 'flow_bytes/s',\n",
      "       'flow_packets/s', 'flow_iat_mean', 'flow_iat_std', 'flow_iat_max',\n",
      "       'flow_iat_min', 'fwd_iat_total', 'fwd_iat_mean', 'fwd_iat_std',\n",
      "       'fwd_iat_max', 'fwd_iat_min', 'bwd_iat_total', 'bwd_iat_mean',\n",
      "       'bwd_iat_std', 'bwd_iat_max', 'bwd_iat_min', 'fwd_psh_flags',\n",
      "       'fwd_urg_flags', 'fwd_header_length', 'bwd_header_length',\n",
      "       'fwd_packets/s', 'bwd_packets/s', 'packet_length_min',\n",
      "       'packet_length_max', 'packet_length_mean', 'packet_length_std',\n",
      "       'packet_length_variance', 'fin_flag_count', 'syn_flag_count',\n",
      "       'rst_flag_count', 'psh_flag_count', 'ack_flag_count', 'urg_flag_count',\n",
      "       'cwr_flag_count', 'ece_flag_count', 'down/up_ratio',\n",
      "       'average_packet_size', 'fwd_segment_size_avg', 'bwd_segment_size_avg',\n",
      "       'bwd_bytes/bulk_avg', 'bwd_packet/bulk_avg', 'bwd_bulk_rate_avg',\n",
      "       'subflow_fwd_packets', 'subflow_fwd_bytes', 'subflow_bwd_bytes',\n",
      "       'fwd_init_win_bytes', 'bwd_init_win_bytes', 'fwd_act_data_pkts',\n",
      "       'fwd_seg_size_min', 'active_mean', 'active_max', 'active_min',\n",
      "       'idle_mean', 'idle_std', 'idle_max', 'idle_min', 'label'],\n",
      "      dtype='object')\n",
      "selected features = Index(['flow_duration', 'total_fwd_packet', 'total_bwd_packets',\n",
      "       'total_length_of_fwd_packet', 'total_length_of_bwd_packet',\n",
      "       'fwd_packet_length_max', 'fwd_packet_length_min',\n",
      "       'fwd_packet_length_mean', 'fwd_packet_length_std',\n",
      "       'bwd_packet_length_max', 'bwd_packet_length_min',\n",
      "       'bwd_packet_length_mean', 'bwd_packet_length_std', 'flow_bytes/s',\n",
      "       'flow_packets/s', 'flow_iat_mean', 'flow_iat_std', 'flow_iat_max',\n",
      "       'flow_iat_min', 'fwd_iat_total', 'fwd_iat_mean', 'fwd_iat_std',\n",
      "       'fwd_iat_max', 'fwd_iat_min', 'bwd_iat_total', 'bwd_iat_mean',\n",
      "       'bwd_iat_std', 'bwd_iat_max', 'bwd_iat_min', 'fwd_psh_flags',\n",
      "       'fwd_header_length', 'bwd_header_length', 'fwd_packets/s',\n",
      "       'bwd_packets/s', 'packet_length_min', 'packet_length_max',\n",
      "       'packet_length_mean', 'packet_length_std', 'packet_length_variance',\n",
      "       'fin_flag_count', 'syn_flag_count', 'rst_flag_count', 'psh_flag_count',\n",
      "       'ack_flag_count', 'cwr_flag_count', 'ece_flag_count', 'down/up_ratio',\n",
      "       'average_packet_size', 'fwd_segment_size_avg', 'bwd_segment_size_avg',\n",
      "       'bwd_bytes/bulk_avg', 'bwd_packet/bulk_avg', 'bwd_bulk_rate_avg',\n",
      "       'subflow_fwd_packets', 'subflow_fwd_bytes', 'subflow_bwd_bytes',\n",
      "       'fwd_init_win_bytes', 'bwd_init_win_bytes', 'fwd_act_data_pkts',\n",
      "       'fwd_seg_size_min', 'active_mean', 'active_max', 'active_min',\n",
      "       'idle_mean', 'idle_std', 'idle_max', 'idle_min', 'label'],\n",
      "      dtype='object')\n"
     ]
    }
   ],
   "execution_count": 8
  },
  {
   "metadata": {
    "ExecuteTime": {
     "end_time": "2024-12-12T10:17:32.583023Z",
     "start_time": "2024-12-12T10:17:32.573545Z"
    }
   },
   "cell_type": "code",
   "source": "scvic_apt_train.shape, scvic_apt_test.shape, dapt20_train.shape, mscad_train.shape",
   "id": "5fc2abd575a44a04",
   "outputs": [
    {
     "data": {
      "text/plain": [
       "((257311, 70), (55927, 68), (66011, 65), (103039, 67))"
      ]
     },
     "execution_count": 9,
     "metadata": {},
     "output_type": "execute_result"
    }
   ],
   "execution_count": 9
  },
  {
   "metadata": {
    "ExecuteTime": {
     "end_time": "2024-12-12T10:19:52.102270Z",
     "start_time": "2024-12-12T10:19:49.330062Z"
    }
   },
   "cell_type": "code",
   "source": [
    "import torch\n",
    "from torch.distributions.uniform import Uniform\n",
    "\n",
    "uniform_dist = Uniform(torch.tensor([0]), torch.tensor([0]))\n"
   ],
   "id": "4075ba69669b60dd",
   "outputs": [
    {
     "ename": "ValueError",
     "evalue": "Uniform is not defined when low>= high",
     "output_type": "error",
     "traceback": [
      "\u001B[1;31m---------------------------------------------------------------------------\u001B[0m",
      "\u001B[1;31mValueError\u001B[0m                                Traceback (most recent call last)",
      "Cell \u001B[1;32mIn[10], line 4\u001B[0m\n\u001B[0;32m      1\u001B[0m \u001B[38;5;28;01mimport\u001B[39;00m \u001B[38;5;21;01mtorch\u001B[39;00m\n\u001B[0;32m      2\u001B[0m \u001B[38;5;28;01mfrom\u001B[39;00m \u001B[38;5;21;01mtorch\u001B[39;00m\u001B[38;5;21;01m.\u001B[39;00m\u001B[38;5;21;01mdistributions\u001B[39;00m\u001B[38;5;21;01m.\u001B[39;00m\u001B[38;5;21;01muniform\u001B[39;00m \u001B[38;5;28;01mimport\u001B[39;00m Uniform\n\u001B[1;32m----> 4\u001B[0m uniform_dist \u001B[38;5;241m=\u001B[39m Uniform(torch\u001B[38;5;241m.\u001B[39mtensor([\u001B[38;5;241m0\u001B[39m]), torch\u001B[38;5;241m.\u001B[39mtensor([\u001B[38;5;241m0\u001B[39m]))\n",
      "File \u001B[1;32m~\\Projects\\PhD\\FWC2L\\.envs\\Lib\\site-packages\\torch\\distributions\\uniform.py:61\u001B[0m, in \u001B[0;36mUniform.__init__\u001B[1;34m(self, low, high, validate_args)\u001B[0m\n\u001B[0;32m     58\u001B[0m \u001B[38;5;28msuper\u001B[39m()\u001B[38;5;241m.\u001B[39m\u001B[38;5;21m__init__\u001B[39m(batch_shape, validate_args\u001B[38;5;241m=\u001B[39mvalidate_args)\n\u001B[0;32m     60\u001B[0m \u001B[38;5;28;01mif\u001B[39;00m \u001B[38;5;28mself\u001B[39m\u001B[38;5;241m.\u001B[39m_validate_args \u001B[38;5;129;01mand\u001B[39;00m \u001B[38;5;129;01mnot\u001B[39;00m torch\u001B[38;5;241m.\u001B[39mlt(\u001B[38;5;28mself\u001B[39m\u001B[38;5;241m.\u001B[39mlow, \u001B[38;5;28mself\u001B[39m\u001B[38;5;241m.\u001B[39mhigh)\u001B[38;5;241m.\u001B[39mall():\n\u001B[1;32m---> 61\u001B[0m     \u001B[38;5;28;01mraise\u001B[39;00m \u001B[38;5;167;01mValueError\u001B[39;00m(\u001B[38;5;124m\"\u001B[39m\u001B[38;5;124mUniform is not defined when low>= high\u001B[39m\u001B[38;5;124m\"\u001B[39m)\n",
      "\u001B[1;31mValueError\u001B[0m: Uniform is not defined when low>= high"
     ]
    }
   ],
   "execution_count": 10
  },
  {
   "metadata": {},
   "cell_type": "markdown",
   "source": "## Testing code",
   "id": "7d80d91eebfed82a"
  },
  {
   "metadata": {
    "ExecuteTime": {
     "end_time": "2024-12-10T12:26:11.655690Z",
     "start_time": "2024-12-10T12:26:11.579559Z"
    }
   },
   "cell_type": "code",
   "source": [
    "dapt20_df.drop(columns=['Source.Name', 'Activity'], inplace=True)\n",
    "dapt20_df['Label'] = dapt20_df['Stage']\n",
    "dapt20_df.drop(columns=['Stage'], inplace=True)"
   ],
   "id": "1c3e68d2c2094176",
   "outputs": [],
   "execution_count": 27
  },
  {
   "metadata": {
    "ExecuteTime": {
     "end_time": "2024-12-10T15:07:01.950832Z",
     "start_time": "2024-12-10T15:07:01.879511Z"
    }
   },
   "cell_type": "code",
   "source": "dapt20_df.shape, train_df.shape, test_df.shape, mscad_df.shape",
   "id": "bc5f6a5b613a6ac7",
   "outputs": [
    {
     "data": {
      "text/plain": [
       "((86690, 86), (259120, 84), (56487, 84), (128799, 67))"
      ]
     },
     "execution_count": 50,
     "metadata": {},
     "output_type": "execute_result"
    }
   ],
   "execution_count": 50
  },
  {
   "metadata": {
    "ExecuteTime": {
     "end_time": "2024-12-10T16:35:15.071805Z",
     "start_time": "2024-12-10T16:35:14.820062Z"
    }
   },
   "cell_type": "code",
   "source": "mscad_train_df, mscad_test_df = train_test_split(mscad_df, test_size=0.2)",
   "id": "746b0a97214a123c",
   "outputs": [],
   "execution_count": 62
  },
  {
   "metadata": {
    "ExecuteTime": {
     "end_time": "2024-12-10T16:54:19.249079Z",
     "start_time": "2024-12-10T16:54:16.667455Z"
    }
   },
   "cell_type": "code",
   "source": [
    "mscad_train_df.to_csv('../datasets/mscad/train.csv', index=False, header=True)\n",
    "mscad_test_df.to_csv('../datasets/mscad/test.csv', index=False, header=True)"
   ],
   "id": "f069c5c3a7ba253f",
   "outputs": [],
   "execution_count": 67
  },
  {
   "metadata": {
    "ExecuteTime": {
     "end_time": "2024-12-10T16:35:16.779178Z",
     "start_time": "2024-12-10T16:35:16.767412Z"
    }
   },
   "cell_type": "code",
   "source": "mscad_train_df.shape, mscad_test_df.shape",
   "id": "6140477ad5e2ea2e",
   "outputs": [
    {
     "data": {
      "text/plain": [
       "((103039, 67), (25760, 67))"
      ]
     },
     "execution_count": 63,
     "metadata": {},
     "output_type": "execute_result"
    }
   ],
   "execution_count": 63
  },
  {
   "metadata": {
    "ExecuteTime": {
     "end_time": "2024-12-10T16:51:29.921958Z",
     "start_time": "2024-12-10T16:51:29.710205Z"
    }
   },
   "cell_type": "code",
   "source": "mscad_train_df['Label'].value_counts()",
   "id": "2fd01ddb08f27f6c",
   "outputs": [
    {
     "data": {
      "text/plain": [
       "Label\n",
       "Brute_Force    70864\n",
       "Normal         22734\n",
       "Port_Scan       8881\n",
       "HTTP_DDoS        503\n",
       "ICMP_Flood        35\n",
       "Web_Crwling       22\n",
       "Name: count, dtype: int64"
      ]
     },
     "execution_count": 64,
     "metadata": {},
     "output_type": "execute_result"
    }
   ],
   "execution_count": 64
  },
  {
   "metadata": {
    "ExecuteTime": {
     "end_time": "2024-12-10T16:53:28.042398Z",
     "start_time": "2024-12-10T16:53:28.030839Z"
    }
   },
   "cell_type": "code",
   "source": "mscad_test_df['Label'].value_counts()",
   "id": "252870a13b9f270",
   "outputs": [
    {
     "data": {
      "text/plain": [
       "Label\n",
       "Brute_Force    17638\n",
       "Normal          5768\n",
       "Port_Scan       2200\n",
       "HTTP_DDoS        138\n",
       "ICMP_Flood        10\n",
       "Web_Crwling        6\n",
       "Name: count, dtype: int64"
      ]
     },
     "execution_count": 66,
     "metadata": {},
     "output_type": "execute_result"
    }
   ],
   "execution_count": 66
  },
  {
   "metadata": {
    "ExecuteTime": {
     "end_time": "2024-12-10T15:15:42.262273Z",
     "start_time": "2024-12-10T15:15:41.724840Z"
    }
   },
   "cell_type": "code",
   "source": "dapt20_train_df, dapt20_test_df = train_test_split(dapt20_df, test_size=0.2)",
   "id": "7c470be4c3cfde77",
   "outputs": [],
   "execution_count": 52
  },
  {
   "metadata": {
    "ExecuteTime": {
     "end_time": "2024-12-10T15:17:09.206699Z",
     "start_time": "2024-12-10T15:17:09.192570Z"
    }
   },
   "cell_type": "code",
   "source": "dapt20_train_df.shape, dapt20_test_df.shape",
   "id": "315f9e1daac69a47",
   "outputs": [
    {
     "data": {
      "text/plain": [
       "((69352, 86), (17338, 86))"
      ]
     },
     "execution_count": 53,
     "metadata": {},
     "output_type": "execute_result"
    }
   ],
   "execution_count": 53
  },
  {
   "metadata": {
    "ExecuteTime": {
     "end_time": "2024-12-10T16:15:02.140554Z",
     "start_time": "2024-12-10T16:15:02.014466Z"
    }
   },
   "cell_type": "code",
   "source": [
    "# df.label = df.label.str.lower().replace('normal', 'benign')\n",
    "dapt20_train_df['Stage'] = dapt20_train_df['Stage'].str.replace(\"BENIGN\", \"Benign\")\n",
    "dapt20_test_df['Stage'] = dapt20_test_df['Stage'].str.replace(\"BENIGN\", \"Benign\")"
   ],
   "id": "f0ae2a5161a87344",
   "outputs": [],
   "execution_count": 56
  },
  {
   "metadata": {
    "ExecuteTime": {
     "end_time": "2024-12-10T16:17:55.513070Z",
     "start_time": "2024-12-10T16:17:52.055449Z"
    }
   },
   "cell_type": "code",
   "source": [
    "dapt20_train_df.to_csv('../datasets/dapt20/train.csv', index=False, header=True)\n",
    "dapt20_test_df.to_csv('../datasets/dapt20/test.csv', index=False, header=True)"
   ],
   "id": "9322525260ff8a0e",
   "outputs": [],
   "execution_count": 60
  },
  {
   "metadata": {
    "ExecuteTime": {
     "end_time": "2024-12-10T16:17:09.964777Z",
     "start_time": "2024-12-10T16:17:09.955961Z"
    }
   },
   "cell_type": "code",
   "source": "dapt20_train_df.columns",
   "id": "c165628ca773477c",
   "outputs": [
    {
     "data": {
      "text/plain": [
       "Index(['Source.Name', 'Flow ID', 'Src IP', 'Src Port', 'Dst IP', 'Dst Port',\n",
       "       'Protocol', 'Timestamp', 'Flow Duration', 'Total Fwd Packet',\n",
       "       'Total Bwd packets', 'Total Length of Fwd Packet',\n",
       "       'Total Length of Bwd Packet', 'Fwd Packet Length Max',\n",
       "       'Fwd Packet Length Min', 'Fwd Packet Length Mean',\n",
       "       'Fwd Packet Length Std', 'Bwd Packet Length Max',\n",
       "       'Bwd Packet Length Min', 'Bwd Packet Length Mean',\n",
       "       'Bwd Packet Length Std', 'Flow Bytes/s', 'Flow Packets/s',\n",
       "       'Flow IAT Mean', 'Flow IAT Std', 'Flow IAT Max', 'Flow IAT Min',\n",
       "       'Fwd IAT Total', 'Fwd IAT Mean', 'Fwd IAT Std', 'Fwd IAT Max',\n",
       "       'Fwd IAT Min', 'Bwd IAT Total', 'Bwd IAT Mean', 'Bwd IAT Std',\n",
       "       'Bwd IAT Max', 'Bwd IAT Min', 'Fwd PSH Flags', 'Bwd PSH Flags',\n",
       "       'Fwd URG Flags', 'Bwd URG Flags', 'Fwd Header Length',\n",
       "       'Bwd Header Length', 'Fwd Packets/s', 'Bwd Packets/s',\n",
       "       'Packet Length Min', 'Packet Length Max', 'Packet Length Mean',\n",
       "       'Packet Length Std', 'Packet Length Variance', 'FIN Flag Count',\n",
       "       'SYN Flag Count', 'RST Flag Count', 'PSH Flag Count', 'ACK Flag Count',\n",
       "       'URG Flag Count', 'CWR Flag Count', 'ECE Flag Count', 'Down/Up Ratio',\n",
       "       'Average Packet Size', 'Fwd Segment Size Avg', 'Bwd Segment Size Avg',\n",
       "       'Fwd Bytes/Bulk Avg', 'Fwd Packet/Bulk Avg', 'Fwd Bulk Rate Avg',\n",
       "       'Bwd Bytes/Bulk Avg', 'Bwd Packet/Bulk Avg', 'Bwd Bulk Rate Avg',\n",
       "       'Subflow Fwd Packets', 'Subflow Fwd Bytes', 'Subflow Bwd Packets',\n",
       "       'Subflow Bwd Bytes', 'FWD Init Win Bytes', 'Bwd Init Win Bytes',\n",
       "       'Fwd Act Data Pkts', 'Fwd Seg Size Min', 'Active Mean', 'Active Std',\n",
       "       'Active Max', 'Active Min', 'Idle Mean', 'Idle Std', 'Idle Max',\n",
       "       'Idle Min', 'Activity', 'Stage'],\n",
       "      dtype='object')"
      ]
     },
     "execution_count": 59,
     "metadata": {},
     "output_type": "execute_result"
    }
   ],
   "execution_count": 59
  },
  {
   "metadata": {
    "ExecuteTime": {
     "end_time": "2024-12-10T16:15:08.884800Z",
     "start_time": "2024-12-10T16:15:08.848281Z"
    }
   },
   "cell_type": "code",
   "source": "dapt20_train_df['Stage'].value_counts()",
   "id": "96ed83857e6b256b",
   "outputs": [
    {
     "data": {
      "text/plain": [
       "Stage\n",
       "Benign                49501\n",
       "Reconnaissance         9518\n",
       "Establish Foothold     6873\n",
       "Lateral Movement        107\n",
       "Data Exfiltration        12\n",
       "Name: count, dtype: int64"
      ]
     },
     "execution_count": 57,
     "metadata": {},
     "output_type": "execute_result"
    }
   ],
   "execution_count": 57
  },
  {
   "metadata": {
    "ExecuteTime": {
     "end_time": "2024-12-10T16:15:15.076246Z",
     "start_time": "2024-12-10T16:15:15.064211Z"
    }
   },
   "cell_type": "code",
   "source": "dapt20_test_df['Stage'].value_counts()",
   "id": "a7b5d3b9f5167268",
   "outputs": [
    {
     "data": {
      "text/plain": [
       "Stage\n",
       "Benign                12411\n",
       "Reconnaissance         2391\n",
       "Establish Foothold     1731\n",
       "Lateral Movement         30\n",
       "Data Exfiltration         3\n",
       "Name: count, dtype: int64"
      ]
     },
     "execution_count": 58,
     "metadata": {},
     "output_type": "execute_result"
    }
   ],
   "execution_count": 58
  },
  {
   "metadata": {
    "ExecuteTime": {
     "end_time": "2024-12-10T13:36:58.570909Z",
     "start_time": "2024-12-10T13:36:58.525429Z"
    }
   },
   "cell_type": "code",
   "source": "train_df['Label'].value_counts()",
   "id": "df76c82ac1ff1ba9",
   "outputs": [
    {
     "data": {
      "text/plain": [
       "Label\n",
       "NormalTraffic        254836\n",
       "Pivoting               2122\n",
       "Reconnaissance          833\n",
       "LateralMovement         729\n",
       "DataExfiltration        527\n",
       "InitialCompromise        73\n",
       "Name: count, dtype: int64"
      ]
     },
     "execution_count": 39,
     "metadata": {},
     "output_type": "execute_result"
    }
   ],
   "execution_count": 39
  },
  {
   "metadata": {
    "ExecuteTime": {
     "end_time": "2024-12-10T13:38:49.561007Z",
     "start_time": "2024-12-10T13:38:49.543442Z"
    }
   },
   "cell_type": "code",
   "source": "dapt20_df['Stage'].value_counts()",
   "id": "c1520d7007155ad4",
   "outputs": [
    {
     "data": {
      "text/plain": [
       "Stage\n",
       "Benign                42458\n",
       "BENIGN                19454\n",
       "Reconnaissance        11909\n",
       "Establish Foothold     8604\n",
       "Lateral Movement        137\n",
       "Data Exfiltration        15\n",
       "Name: count, dtype: int64"
      ]
     },
     "execution_count": 47,
     "metadata": {},
     "output_type": "execute_result"
    }
   ],
   "execution_count": 47
  },
  {
   "metadata": {
    "ExecuteTime": {
     "end_time": "2024-12-10T13:39:36.908887Z",
     "start_time": "2024-12-10T13:39:36.896231Z"
    }
   },
   "cell_type": "code",
   "source": "mscad_df['Label'].value_counts()",
   "id": "3a301747c5e3e709",
   "outputs": [
    {
     "data": {
      "text/plain": [
       "Label\n",
       "Brute_Force    88502\n",
       "Normal         28502\n",
       "Port_Scan      11081\n",
       "HTTP_DDoS        641\n",
       "ICMP_Flood        45\n",
       "Web_Crwling       28\n",
       "Name: count, dtype: int64"
      ]
     },
     "execution_count": 49,
     "metadata": {},
     "output_type": "execute_result"
    }
   ],
   "execution_count": 49
  },
  {
   "metadata": {
    "ExecuteTime": {
     "end_time": "2024-12-10T13:36:33.633213Z",
     "start_time": "2024-12-10T13:36:33.621038Z"
    }
   },
   "cell_type": "code",
   "source": "test_df.shape[0] / (train_df.shape[0] + test_df.shape[0])",
   "id": "26820cbd747ba377",
   "outputs": [
    {
     "data": {
      "text/plain": [
       "0.17897891998593188"
      ]
     },
     "execution_count": 37,
     "metadata": {},
     "output_type": "execute_result"
    }
   ],
   "execution_count": 37
  },
  {
   "metadata": {
    "ExecuteTime": {
     "end_time": "2024-12-10T12:28:51.826920Z",
     "start_time": "2024-12-10T12:28:51.721946Z"
    }
   },
   "cell_type": "code",
   "source": "mscad_df.info()",
   "id": "4d6e5ba10cb5974",
   "outputs": [
    {
     "name": "stdout",
     "output_type": "stream",
     "text": [
      "<class 'pandas.core.frame.DataFrame'>\n",
      "RangeIndex: 128799 entries, 0 to 128798\n",
      "Data columns (total 67 columns):\n",
      " #   Column             Non-Null Count   Dtype  \n",
      "---  ------             --------------   -----  \n",
      " 0   Flow Duration      128799 non-null  int64  \n",
      " 1   Tot Fwd Pkts       128799 non-null  int64  \n",
      " 2   Tot Bwd Pkts       128799 non-null  int64  \n",
      " 3   TotLen Fwd Pkts    128799 non-null  int64  \n",
      " 4   TotLen Bwd Pkts    128799 non-null  int64  \n",
      " 5   Fwd Pkt Len Max    128799 non-null  int64  \n",
      " 6   Fwd Pkt Len Min    128799 non-null  int64  \n",
      " 7   Fwd Pkt Len Mean   128799 non-null  float64\n",
      " 8   Fwd Pkt Len Std    128799 non-null  float64\n",
      " 9   Bwd Pkt Len Max    128799 non-null  int64  \n",
      " 10  Bwd Pkt Len Min    128799 non-null  int64  \n",
      " 11  Bwd Pkt Len Mean   128799 non-null  float64\n",
      " 12  Bwd Pkt Len Std    128799 non-null  float64\n",
      " 13  Flow Byts/s        128799 non-null  float64\n",
      " 14  Flow Pkts/s        128799 non-null  float64\n",
      " 15  Flow IAT Mean      128799 non-null  float64\n",
      " 16  Flow IAT Std       128799 non-null  float64\n",
      " 17  Flow IAT Max       128799 non-null  int64  \n",
      " 18  Flow IAT Min       128799 non-null  int64  \n",
      " 19  Fwd IAT Tot        128799 non-null  int64  \n",
      " 20  Fwd IAT Mean       128799 non-null  float64\n",
      " 21  Fwd IAT Std        128799 non-null  float64\n",
      " 22  Fwd IAT Max        128799 non-null  int64  \n",
      " 23  Fwd IAT Min        128799 non-null  int64  \n",
      " 24  Bwd IAT Tot        128799 non-null  int64  \n",
      " 25  Bwd IAT Mean       128799 non-null  float64\n",
      " 26  Bwd IAT Std        128799 non-null  float64\n",
      " 27  Bwd IAT Max        128799 non-null  int64  \n",
      " 28  Bwd IAT Min        128799 non-null  int64  \n",
      " 29  Bwd PSH Flags      128799 non-null  int64  \n",
      " 30  Bwd URG Flags      128799 non-null  int64  \n",
      " 31  Fwd Header Len     128799 non-null  int64  \n",
      " 32  Bwd Header Len     128799 non-null  int64  \n",
      " 33  Fwd Pkts/s         128799 non-null  float64\n",
      " 34  Bwd Pkts/s         128799 non-null  float64\n",
      " 35  Pkt Len Min        128799 non-null  int64  \n",
      " 36  Pkt Len Max        128799 non-null  int64  \n",
      " 37  Pkt Len Mean       128799 non-null  float64\n",
      " 38  Pkt Len Std        128799 non-null  float64\n",
      " 39  Pkt Len Var        128799 non-null  float64\n",
      " 40  FIN Flag Cnt       128799 non-null  int64  \n",
      " 41  SYN Flag Cnt       128799 non-null  int64  \n",
      " 42  RST Flag Cnt       128799 non-null  int64  \n",
      " 43  PSH Flag Cnt       128799 non-null  int64  \n",
      " 44  ACK Flag Cnt       128799 non-null  int64  \n",
      " 45  URG Flag Cnt       128799 non-null  int64  \n",
      " 46  CWE Flag Count     128799 non-null  int64  \n",
      " 47  ECE Flag Cnt       128799 non-null  int64  \n",
      " 48  Down/Up Ratio      128799 non-null  int64  \n",
      " 49  Pkt Size Avg       128799 non-null  float64\n",
      " 50  Fwd Seg Size Avg   128799 non-null  float64\n",
      " 51  Bwd Seg Size Avg   128799 non-null  float64\n",
      " 52  Subflow Fwd Pkts   128799 non-null  int64  \n",
      " 53  Subflow Fwd Byts   128799 non-null  int64  \n",
      " 54  Subflow Bwd Pkts   128799 non-null  int64  \n",
      " 55  Subflow Bwd Byts   128799 non-null  int64  \n",
      " 56  Init Bwd Win Byts  128799 non-null  int64  \n",
      " 57  Fwd Act Data Pkts  128799 non-null  int64  \n",
      " 58  Active Mean        128799 non-null  int64  \n",
      " 59  Active Std         128799 non-null  int64  \n",
      " 60  Active Max         128799 non-null  int64  \n",
      " 61  Active Min         128799 non-null  int64  \n",
      " 62  Idle Mean          128799 non-null  int64  \n",
      " 63  Idle Std           128799 non-null  int64  \n",
      " 64  Idle Max           128799 non-null  int64  \n",
      " 65  Idle Min           128799 non-null  int64  \n",
      " 66  Label              128799 non-null  object \n",
      "dtypes: float64(20), int64(46), object(1)\n",
      "memory usage: 65.8+ MB\n"
     ]
    }
   ],
   "execution_count": 32
  },
  {
   "metadata": {
    "ExecuteTime": {
     "end_time": "2024-12-10T09:50:04.220952Z",
     "start_time": "2024-12-10T09:50:03.528088Z"
    }
   },
   "cell_type": "code",
   "source": "cic_ids.info()",
   "id": "4bb077e65e01d679",
   "outputs": [
    {
     "name": "stdout",
     "output_type": "stream",
     "text": [
      "<class 'pandas.core.frame.DataFrame'>\n",
      "RangeIndex: 692703 entries, 0 to 692702\n",
      "Data columns (total 85 columns):\n",
      " #   Column                        Non-Null Count   Dtype  \n",
      "---  ------                        --------------   -----  \n",
      " 0   Flow ID                       692703 non-null  object \n",
      " 1    Source IP                    692703 non-null  object \n",
      " 2    Source Port                  692703 non-null  int64  \n",
      " 3    Destination IP               692703 non-null  object \n",
      " 4    Destination Port             692703 non-null  int64  \n",
      " 5    Protocol                     692703 non-null  int64  \n",
      " 6    Timestamp                    692703 non-null  object \n",
      " 7    Flow Duration                692703 non-null  int64  \n",
      " 8    Total Fwd Packets            692703 non-null  int64  \n",
      " 9    Total Backward Packets       692703 non-null  int64  \n",
      " 10  Total Length of Fwd Packets   692703 non-null  int64  \n",
      " 11   Total Length of Bwd Packets  692703 non-null  float64\n",
      " 12   Fwd Packet Length Max        692703 non-null  int64  \n",
      " 13   Fwd Packet Length Min        692703 non-null  int64  \n",
      " 14   Fwd Packet Length Mean       692703 non-null  float64\n",
      " 15   Fwd Packet Length Std        692703 non-null  float64\n",
      " 16  Bwd Packet Length Max         692703 non-null  int64  \n",
      " 17   Bwd Packet Length Min        692703 non-null  int64  \n",
      " 18   Bwd Packet Length Mean       692703 non-null  float64\n",
      " 19   Bwd Packet Length Std        692703 non-null  float64\n",
      " 20  Flow Bytes/s                  691695 non-null  float64\n",
      " 21   Flow Packets/s               692703 non-null  float64\n",
      " 22   Flow IAT Mean                692703 non-null  float64\n",
      " 23   Flow IAT Std                 692703 non-null  float64\n",
      " 24   Flow IAT Max                 692703 non-null  float64\n",
      " 25   Flow IAT Min                 692703 non-null  float64\n",
      " 26  Fwd IAT Total                 692703 non-null  float64\n",
      " 27   Fwd IAT Mean                 692703 non-null  float64\n",
      " 28   Fwd IAT Std                  692703 non-null  float64\n",
      " 29   Fwd IAT Max                  692703 non-null  float64\n",
      " 30   Fwd IAT Min                  692703 non-null  float64\n",
      " 31  Bwd IAT Total                 692703 non-null  float64\n",
      " 32   Bwd IAT Mean                 692703 non-null  float64\n",
      " 33   Bwd IAT Std                  692703 non-null  float64\n",
      " 34   Bwd IAT Max                  692703 non-null  float64\n",
      " 35   Bwd IAT Min                  692703 non-null  float64\n",
      " 36  Fwd PSH Flags                 692703 non-null  int64  \n",
      " 37   Bwd PSH Flags                692703 non-null  int64  \n",
      " 38   Fwd URG Flags                692703 non-null  int64  \n",
      " 39   Bwd URG Flags                692703 non-null  int64  \n",
      " 40   Fwd Header Length            692703 non-null  int64  \n",
      " 41   Bwd Header Length            692703 non-null  int64  \n",
      " 42  Fwd Packets/s                 692703 non-null  float64\n",
      " 43   Bwd Packets/s                692703 non-null  float64\n",
      " 44   Min Packet Length            692703 non-null  int64  \n",
      " 45   Max Packet Length            692703 non-null  int64  \n",
      " 46   Packet Length Mean           692703 non-null  float64\n",
      " 47   Packet Length Std            692703 non-null  float64\n",
      " 48   Packet Length Variance       692703 non-null  float64\n",
      " 49  FIN Flag Count                692703 non-null  int64  \n",
      " 50   SYN Flag Count               692703 non-null  int64  \n",
      " 51   RST Flag Count               692703 non-null  int64  \n",
      " 52   PSH Flag Count               692703 non-null  int64  \n",
      " 53   ACK Flag Count               692703 non-null  int64  \n",
      " 54   URG Flag Count               692703 non-null  int64  \n",
      " 55   CWE Flag Count               692703 non-null  int64  \n",
      " 56   ECE Flag Count               692703 non-null  int64  \n",
      " 57   Down/Up Ratio                692703 non-null  int64  \n",
      " 58   Average Packet Size          692703 non-null  float64\n",
      " 59   Avg Fwd Segment Size         692703 non-null  float64\n",
      " 60   Avg Bwd Segment Size         692703 non-null  float64\n",
      " 61   Fwd Header Length.1          692703 non-null  int64  \n",
      " 62  Fwd Avg Bytes/Bulk            692703 non-null  int64  \n",
      " 63   Fwd Avg Packets/Bulk         692703 non-null  int64  \n",
      " 64   Fwd Avg Bulk Rate            692703 non-null  int64  \n",
      " 65   Bwd Avg Bytes/Bulk           692703 non-null  int64  \n",
      " 66   Bwd Avg Packets/Bulk         692703 non-null  int64  \n",
      " 67  Bwd Avg Bulk Rate             692703 non-null  int64  \n",
      " 68  Subflow Fwd Packets           692703 non-null  int64  \n",
      " 69   Subflow Fwd Bytes            692703 non-null  int64  \n",
      " 70   Subflow Bwd Packets          692703 non-null  int64  \n",
      " 71   Subflow Bwd Bytes            692703 non-null  int64  \n",
      " 72  Init_Win_bytes_forward        692703 non-null  int64  \n",
      " 73   Init_Win_bytes_backward      692703 non-null  int64  \n",
      " 74   act_data_pkt_fwd             692703 non-null  int64  \n",
      " 75   min_seg_size_forward         692703 non-null  int64  \n",
      " 76  Active Mean                   692703 non-null  float64\n",
      " 77   Active Std                   692703 non-null  float64\n",
      " 78   Active Max                   692703 non-null  float64\n",
      " 79   Active Min                   692703 non-null  float64\n",
      " 80  Idle Mean                     692703 non-null  float64\n",
      " 81   Idle Std                     692703 non-null  float64\n",
      " 82   Idle Max                     692703 non-null  float64\n",
      " 83   Idle Min                     692703 non-null  float64\n",
      " 84   Label                        692703 non-null  object \n",
      "dtypes: float64(37), int64(43), object(5)\n",
      "memory usage: 449.2+ MB\n"
     ]
    }
   ],
   "execution_count": 19
  },
  {
   "metadata": {
    "ExecuteTime": {
     "end_time": "2024-12-10T13:37:41.309415Z",
     "start_time": "2024-12-10T13:37:41.088756Z"
    }
   },
   "cell_type": "code",
   "source": "dapt20_df.info()",
   "id": "1d4d911759a36df9",
   "outputs": [
    {
     "name": "stdout",
     "output_type": "stream",
     "text": [
      "<class 'pandas.core.frame.DataFrame'>\n",
      "RangeIndex: 86690 entries, 0 to 86689\n",
      "Data columns (total 86 columns):\n",
      " #   Column                      Non-Null Count  Dtype  \n",
      "---  ------                      --------------  -----  \n",
      " 0   Source.Name                 86690 non-null  object \n",
      " 1   Flow ID                     82577 non-null  object \n",
      " 2   Src IP                      82577 non-null  object \n",
      " 3   Src Port                    82577 non-null  float64\n",
      " 4   Dst IP                      82577 non-null  object \n",
      " 5   Dst Port                    82577 non-null  float64\n",
      " 6   Protocol                    82577 non-null  float64\n",
      " 7   Timestamp                   82577 non-null  object \n",
      " 8   Flow Duration               82577 non-null  float64\n",
      " 9   Total Fwd Packet            82577 non-null  float64\n",
      " 10  Total Bwd packets           82577 non-null  float64\n",
      " 11  Total Length of Fwd Packet  82577 non-null  float64\n",
      " 12  Total Length of Bwd Packet  82577 non-null  float64\n",
      " 13  Fwd Packet Length Max       82577 non-null  float64\n",
      " 14  Fwd Packet Length Min       82577 non-null  float64\n",
      " 15  Fwd Packet Length Mean      82577 non-null  float64\n",
      " 16  Fwd Packet Length Std       82577 non-null  float64\n",
      " 17  Bwd Packet Length Max       82577 non-null  float64\n",
      " 18  Bwd Packet Length Min       82577 non-null  float64\n",
      " 19  Bwd Packet Length Mean      82577 non-null  float64\n",
      " 20  Bwd Packet Length Std       82577 non-null  float64\n",
      " 21  Flow Bytes/s                82577 non-null  float64\n",
      " 22  Flow Packets/s              82577 non-null  float64\n",
      " 23  Flow IAT Mean               82577 non-null  float64\n",
      " 24  Flow IAT Std                82577 non-null  float64\n",
      " 25  Flow IAT Max                82577 non-null  float64\n",
      " 26  Flow IAT Min                82577 non-null  float64\n",
      " 27  Fwd IAT Total               82577 non-null  float64\n",
      " 28  Fwd IAT Mean                82577 non-null  float64\n",
      " 29  Fwd IAT Std                 82577 non-null  float64\n",
      " 30  Fwd IAT Max                 82577 non-null  float64\n",
      " 31  Fwd IAT Min                 82577 non-null  float64\n",
      " 32  Bwd IAT Total               82577 non-null  float64\n",
      " 33  Bwd IAT Mean                82577 non-null  float64\n",
      " 34  Bwd IAT Std                 82577 non-null  float64\n",
      " 35  Bwd IAT Max                 82577 non-null  float64\n",
      " 36  Bwd IAT Min                 82577 non-null  float64\n",
      " 37  Fwd PSH Flags               82577 non-null  float64\n",
      " 38  Bwd PSH Flags               82577 non-null  float64\n",
      " 39  Fwd URG Flags               82577 non-null  float64\n",
      " 40  Bwd URG Flags               82577 non-null  float64\n",
      " 41  Fwd Header Length           82577 non-null  float64\n",
      " 42  Bwd Header Length           82577 non-null  float64\n",
      " 43  Fwd Packets/s               82577 non-null  float64\n",
      " 44  Bwd Packets/s               82577 non-null  float64\n",
      " 45  Packet Length Min           82577 non-null  float64\n",
      " 46  Packet Length Max           82577 non-null  float64\n",
      " 47  Packet Length Mean          82577 non-null  float64\n",
      " 48  Packet Length Std           82577 non-null  float64\n",
      " 49  Packet Length Variance      82577 non-null  float64\n",
      " 50  FIN Flag Count              82577 non-null  float64\n",
      " 51  SYN Flag Count              82577 non-null  float64\n",
      " 52  RST Flag Count              82577 non-null  float64\n",
      " 53  PSH Flag Count              82577 non-null  float64\n",
      " 54  ACK Flag Count              82577 non-null  float64\n",
      " 55  URG Flag Count              82577 non-null  float64\n",
      " 56  CWR Flag Count              82577 non-null  float64\n",
      " 57  ECE Flag Count              82577 non-null  float64\n",
      " 58  Down/Up Ratio               82577 non-null  float64\n",
      " 59  Average Packet Size         82577 non-null  float64\n",
      " 60  Fwd Segment Size Avg        82577 non-null  float64\n",
      " 61  Bwd Segment Size Avg        82577 non-null  float64\n",
      " 62  Fwd Bytes/Bulk Avg          82577 non-null  float64\n",
      " 63  Fwd Packet/Bulk Avg         82577 non-null  float64\n",
      " 64  Fwd Bulk Rate Avg           82577 non-null  float64\n",
      " 65  Bwd Bytes/Bulk Avg          82577 non-null  float64\n",
      " 66  Bwd Packet/Bulk Avg         82577 non-null  float64\n",
      " 67  Bwd Bulk Rate Avg           82577 non-null  float64\n",
      " 68  Subflow Fwd Packets         82577 non-null  float64\n",
      " 69  Subflow Fwd Bytes           82577 non-null  float64\n",
      " 70  Subflow Bwd Packets         82577 non-null  float64\n",
      " 71  Subflow Bwd Bytes           82577 non-null  float64\n",
      " 72  FWD Init Win Bytes          82577 non-null  float64\n",
      " 73  Bwd Init Win Bytes          82577 non-null  float64\n",
      " 74  Fwd Act Data Pkts           82577 non-null  float64\n",
      " 75  Fwd Seg Size Min            82577 non-null  float64\n",
      " 76  Active Mean                 82577 non-null  float64\n",
      " 77  Active Std                  82577 non-null  float64\n",
      " 78  Active Max                  82577 non-null  float64\n",
      " 79  Active Min                  82577 non-null  float64\n",
      " 80  Idle Mean                   82577 non-null  float64\n",
      " 81  Idle Std                    82577 non-null  float64\n",
      " 82  Idle Max                    82577 non-null  float64\n",
      " 83  Idle Min                    82577 non-null  float64\n",
      " 84  Activity                    82577 non-null  object \n",
      " 85  Stage                       82577 non-null  object \n",
      "dtypes: float64(79), object(7)\n",
      "memory usage: 56.9+ MB\n"
     ]
    }
   ],
   "execution_count": 42
  },
  {
   "metadata": {
    "ExecuteTime": {
     "end_time": "2024-12-10T09:20:08.329455Z",
     "start_time": "2024-12-10T09:20:08.217063Z"
    }
   },
   "cell_type": "code",
   "source": "train_df.info()",
   "id": "673fa85dacbc487a",
   "outputs": [
    {
     "name": "stdout",
     "output_type": "stream",
     "text": [
      "<class 'pandas.core.frame.DataFrame'>\n",
      "RangeIndex: 259120 entries, 0 to 259119\n",
      "Data columns (total 84 columns):\n",
      " #   Column                      Non-Null Count   Dtype  \n",
      "---  ------                      --------------   -----  \n",
      " 0   Flow ID                     259119 non-null  object \n",
      " 1   Src IP                      259120 non-null  object \n",
      " 2   Src Port                    259120 non-null  int64  \n",
      " 3   Dst IP                      259120 non-null  object \n",
      " 4   Dst Port                    259120 non-null  int64  \n",
      " 5   Protocol                    259120 non-null  int64  \n",
      " 6   Timestamp                   259120 non-null  object \n",
      " 7   Flow Duration               259120 non-null  int64  \n",
      " 8   Total Fwd Packet            259120 non-null  int64  \n",
      " 9   Total Bwd packets           259120 non-null  int64  \n",
      " 10  Total Length of Fwd Packet  259120 non-null  float64\n",
      " 11  Total Length of Bwd Packet  259120 non-null  float64\n",
      " 12  Fwd Packet Length Max       259120 non-null  float64\n",
      " 13  Fwd Packet Length Min       259120 non-null  float64\n",
      " 14  Fwd Packet Length Mean      259120 non-null  float64\n",
      " 15  Fwd Packet Length Std       259120 non-null  float64\n",
      " 16  Bwd Packet Length Max       259120 non-null  float64\n",
      " 17  Bwd Packet Length Min       259120 non-null  float64\n",
      " 18  Bwd Packet Length Mean      259120 non-null  float64\n",
      " 19  Bwd Packet Length Std       259120 non-null  float64\n",
      " 20  Flow Bytes/s                257362 non-null  float64\n",
      " 21  Flow Packets/s              259120 non-null  float64\n",
      " 22  Flow IAT Mean               259120 non-null  float64\n",
      " 23  Flow IAT Std                259120 non-null  float64\n",
      " 24  Flow IAT Max                259120 non-null  float64\n",
      " 25  Flow IAT Min                259120 non-null  float64\n",
      " 26  Fwd IAT Total               259120 non-null  float64\n",
      " 27  Fwd IAT Mean                259120 non-null  float64\n",
      " 28  Fwd IAT Std                 259120 non-null  float64\n",
      " 29  Fwd IAT Max                 259120 non-null  float64\n",
      " 30  Fwd IAT Min                 259120 non-null  float64\n",
      " 31  Bwd IAT Total               259120 non-null  float64\n",
      " 32  Bwd IAT Mean                259120 non-null  float64\n",
      " 33  Bwd IAT Std                 259120 non-null  float64\n",
      " 34  Bwd IAT Max                 259120 non-null  float64\n",
      " 35  Bwd IAT Min                 259120 non-null  float64\n",
      " 36  Fwd PSH Flags               259120 non-null  int64  \n",
      " 37  Bwd PSH Flags               259120 non-null  int64  \n",
      " 38  Fwd URG Flags               259120 non-null  int64  \n",
      " 39  Bwd URG Flags               259120 non-null  int64  \n",
      " 40  Fwd Header Length           259120 non-null  int64  \n",
      " 41  Bwd Header Length           259120 non-null  int64  \n",
      " 42  Fwd Packets/s               259120 non-null  float64\n",
      " 43  Bwd Packets/s               259120 non-null  float64\n",
      " 44  Packet Length Min           259120 non-null  float64\n",
      " 45  Packet Length Max           259120 non-null  float64\n",
      " 46  Packet Length Mean          259120 non-null  float64\n",
      " 47  Packet Length Std           259120 non-null  float64\n",
      " 48  Packet Length Variance      259120 non-null  float64\n",
      " 49  FIN Flag Count              259120 non-null  int64  \n",
      " 50  SYN Flag Count              259120 non-null  int64  \n",
      " 51  RST Flag Count              259120 non-null  int64  \n",
      " 52  PSH Flag Count              259120 non-null  int64  \n",
      " 53  ACK Flag Count              259120 non-null  int64  \n",
      " 54  URG Flag Count              259120 non-null  int64  \n",
      " 55  CWR Flag Count              259120 non-null  int64  \n",
      " 56  ECE Flag Count              259120 non-null  int64  \n",
      " 57  Down/Up Ratio               259120 non-null  float64\n",
      " 58  Average Packet Size         259120 non-null  float64\n",
      " 59  Fwd Segment Size Avg        259120 non-null  float64\n",
      " 60  Bwd Segment Size Avg        259120 non-null  float64\n",
      " 61  Fwd Bytes/Bulk Avg          259120 non-null  int64  \n",
      " 62  Fwd Packet/Bulk Avg         259120 non-null  int64  \n",
      " 63  Fwd Bulk Rate Avg           259120 non-null  int64  \n",
      " 64  Bwd Bytes/Bulk Avg          259120 non-null  int64  \n",
      " 65  Bwd Packet/Bulk Avg         259120 non-null  int64  \n",
      " 66  Bwd Bulk Rate Avg           259120 non-null  int64  \n",
      " 67  Subflow Fwd Packets         259120 non-null  int64  \n",
      " 68  Subflow Fwd Bytes           259120 non-null  int64  \n",
      " 69  Subflow Bwd Packets         259120 non-null  int64  \n",
      " 70  Subflow Bwd Bytes           259120 non-null  int64  \n",
      " 71  FWD Init Win Bytes          259120 non-null  int64  \n",
      " 72  Bwd Init Win Bytes          259120 non-null  int64  \n",
      " 73  Fwd Act Data Pkts           259120 non-null  int64  \n",
      " 74  Fwd Seg Size Min            259120 non-null  int64  \n",
      " 75  Active Mean                 259120 non-null  float64\n",
      " 76  Active Std                  259120 non-null  float64\n",
      " 77  Active Max                  259120 non-null  float64\n",
      " 78  Active Min                  259120 non-null  float64\n",
      " 79  Idle Mean                   259120 non-null  float64\n",
      " 80  Idle Std                    259120 non-null  float64\n",
      " 81  Idle Max                    259120 non-null  float64\n",
      " 82  Idle Min                    259120 non-null  float64\n",
      " 83  Label                       259120 non-null  object \n",
      "dtypes: float64(45), int64(34), object(5)\n",
      "memory usage: 166.1+ MB\n"
     ]
    }
   ],
   "execution_count": 13
  },
  {
   "metadata": {
    "ExecuteTime": {
     "end_time": "2024-12-10T12:26:27.661619Z",
     "start_time": "2024-12-10T12:26:27.655360Z"
    }
   },
   "cell_type": "code",
   "source": "set(dapt20_df.columns) == set(train_df.columns)",
   "id": "889e84420718c38a",
   "outputs": [
    {
     "data": {
      "text/plain": [
       "True"
      ]
     },
     "execution_count": 29,
     "metadata": {},
     "output_type": "execute_result"
    }
   ],
   "execution_count": 29
  },
  {
   "metadata": {},
   "cell_type": "code",
   "source": [
    "columns_df1 = set(cic_ids.columns)\n",
    "columns_df2 = set(train_df.columns)\n",
    "\n",
    "# Find columns that are unique to each dataframe\n",
    "unique_to_df1 = columns_df1 - columns_df2\n",
    "unique_to_df2 = columns_df2 - columns_df1\n",
    "\n",
    "# Combine the results\n",
    "non_matching_columns = unique_to_df1.union(unique_to_df2)\n",
    "\n",
    "non_matching_columns"
   ],
   "id": "73b1ac2b244db984",
   "outputs": [
    {
     "data": {
      "text/plain": [
       "{' ACK Flag Count',\n",
       " ' Active Max',\n",
       " ' Active Min',\n",
       " ' Active Std',\n",
       " ' Average Packet Size',\n",
       " ' Avg Bwd Segment Size',\n",
       " ' Avg Fwd Segment Size',\n",
       " ' Bwd Avg Bytes/Bulk',\n",
       " ' Bwd Avg Packets/Bulk',\n",
       " ' Bwd Header Length',\n",
       " ' Bwd IAT Max',\n",
       " ' Bwd IAT Mean',\n",
       " ' Bwd IAT Min',\n",
       " ' Bwd IAT Std',\n",
       " ' Bwd PSH Flags',\n",
       " ' Bwd Packet Length Mean',\n",
       " ' Bwd Packet Length Min',\n",
       " ' Bwd Packet Length Std',\n",
       " ' Bwd Packets/s',\n",
       " ' Bwd URG Flags',\n",
       " ' CWE Flag Count',\n",
       " ' Destination IP',\n",
       " ' Destination Port',\n",
       " ' Down/Up Ratio',\n",
       " ' ECE Flag Count',\n",
       " ' Flow Duration',\n",
       " ' Flow IAT Max',\n",
       " ' Flow IAT Mean',\n",
       " ' Flow IAT Min',\n",
       " ' Flow IAT Std',\n",
       " ' Flow Packets/s',\n",
       " ' Fwd Avg Bulk Rate',\n",
       " ' Fwd Avg Packets/Bulk',\n",
       " ' Fwd Header Length',\n",
       " ' Fwd Header Length.1',\n",
       " ' Fwd IAT Max',\n",
       " ' Fwd IAT Mean',\n",
       " ' Fwd IAT Min',\n",
       " ' Fwd IAT Std',\n",
       " ' Fwd Packet Length Max',\n",
       " ' Fwd Packet Length Mean',\n",
       " ' Fwd Packet Length Min',\n",
       " ' Fwd Packet Length Std',\n",
       " ' Fwd URG Flags',\n",
       " ' Idle Max',\n",
       " ' Idle Min',\n",
       " ' Idle Std',\n",
       " ' Init_Win_bytes_backward',\n",
       " ' Label',\n",
       " ' Max Packet Length',\n",
       " ' Min Packet Length',\n",
       " ' PSH Flag Count',\n",
       " ' Packet Length Mean',\n",
       " ' Packet Length Std',\n",
       " ' Packet Length Variance',\n",
       " ' Protocol',\n",
       " ' RST Flag Count',\n",
       " ' SYN Flag Count',\n",
       " ' Source IP',\n",
       " ' Source Port',\n",
       " ' Subflow Bwd Bytes',\n",
       " ' Subflow Bwd Packets',\n",
       " ' Subflow Fwd Bytes',\n",
       " ' Timestamp',\n",
       " ' Total Backward Packets',\n",
       " ' Total Fwd Packets',\n",
       " ' Total Length of Bwd Packets',\n",
       " ' URG Flag Count',\n",
       " ' act_data_pkt_fwd',\n",
       " ' min_seg_size_forward',\n",
       " 'ACK Flag Count',\n",
       " 'Active Max',\n",
       " 'Active Min',\n",
       " 'Active Std',\n",
       " 'Average Packet Size',\n",
       " 'Bwd Avg Bulk Rate',\n",
       " 'Bwd Bulk Rate Avg',\n",
       " 'Bwd Bytes/Bulk Avg',\n",
       " 'Bwd Header Length',\n",
       " 'Bwd IAT Max',\n",
       " 'Bwd IAT Mean',\n",
       " 'Bwd IAT Min',\n",
       " 'Bwd IAT Std',\n",
       " 'Bwd Init Win Bytes',\n",
       " 'Bwd PSH Flags',\n",
       " 'Bwd Packet Length Mean',\n",
       " 'Bwd Packet Length Min',\n",
       " 'Bwd Packet Length Std',\n",
       " 'Bwd Packet/Bulk Avg',\n",
       " 'Bwd Packets/s',\n",
       " 'Bwd Segment Size Avg',\n",
       " 'Bwd URG Flags',\n",
       " 'CWR Flag Count',\n",
       " 'Down/Up Ratio',\n",
       " 'Dst IP',\n",
       " 'Dst Port',\n",
       " 'ECE Flag Count',\n",
       " 'FWD Init Win Bytes',\n",
       " 'Flow Duration',\n",
       " 'Flow IAT Max',\n",
       " 'Flow IAT Mean',\n",
       " 'Flow IAT Min',\n",
       " 'Flow IAT Std',\n",
       " 'Flow Packets/s',\n",
       " 'Fwd Act Data Pkts',\n",
       " 'Fwd Avg Bytes/Bulk',\n",
       " 'Fwd Bulk Rate Avg',\n",
       " 'Fwd Bytes/Bulk Avg',\n",
       " 'Fwd Header Length',\n",
       " 'Fwd IAT Max',\n",
       " 'Fwd IAT Mean',\n",
       " 'Fwd IAT Min',\n",
       " 'Fwd IAT Std',\n",
       " 'Fwd Packet Length Max',\n",
       " 'Fwd Packet Length Mean',\n",
       " 'Fwd Packet Length Min',\n",
       " 'Fwd Packet Length Std',\n",
       " 'Fwd Packet/Bulk Avg',\n",
       " 'Fwd Seg Size Min',\n",
       " 'Fwd Segment Size Avg',\n",
       " 'Fwd URG Flags',\n",
       " 'Idle Max',\n",
       " 'Idle Min',\n",
       " 'Idle Std',\n",
       " 'Init_Win_bytes_forward',\n",
       " 'Label',\n",
       " 'PSH Flag Count',\n",
       " 'Packet Length Max',\n",
       " 'Packet Length Mean',\n",
       " 'Packet Length Min',\n",
       " 'Packet Length Std',\n",
       " 'Packet Length Variance',\n",
       " 'Protocol',\n",
       " 'RST Flag Count',\n",
       " 'SYN Flag Count',\n",
       " 'Src IP',\n",
       " 'Src Port',\n",
       " 'Subflow Bwd Bytes',\n",
       " 'Subflow Bwd Packets',\n",
       " 'Subflow Fwd Bytes',\n",
       " 'Timestamp',\n",
       " 'Total Bwd packets',\n",
       " 'Total Fwd Packet',\n",
       " 'Total Length of Bwd Packet',\n",
       " 'Total Length of Fwd Packet',\n",
       " 'Total Length of Fwd Packets',\n",
       " 'URG Flag Count'}"
      ]
     },
     "execution_count": 34,
     "metadata": {},
     "output_type": "execute_result"
    }
   ],
   "execution_count": 34
  },
  {
   "metadata": {
    "ExecuteTime": {
     "end_time": "2024-12-10T09:59:39.796115Z",
     "start_time": "2024-12-10T09:59:39.782839Z"
    }
   },
   "cell_type": "code",
   "source": "cic_ids.columns",
   "id": "3933e3cbdca645b6",
   "outputs": [
    {
     "data": {
      "text/plain": [
       "Index(['Flow ID', ' Source IP', ' Source Port', ' Destination IP',\n",
       "       ' Destination Port', ' Protocol', ' Timestamp', ' Flow Duration',\n",
       "       ' Total Fwd Packets', ' Total Backward Packets',\n",
       "       'Total Length of Fwd Packets', ' Total Length of Bwd Packets',\n",
       "       ' Fwd Packet Length Max', ' Fwd Packet Length Min',\n",
       "       ' Fwd Packet Length Mean', ' Fwd Packet Length Std',\n",
       "       'Bwd Packet Length Max', ' Bwd Packet Length Min',\n",
       "       ' Bwd Packet Length Mean', ' Bwd Packet Length Std', 'Flow Bytes/s',\n",
       "       ' Flow Packets/s', ' Flow IAT Mean', ' Flow IAT Std', ' Flow IAT Max',\n",
       "       ' Flow IAT Min', 'Fwd IAT Total', ' Fwd IAT Mean', ' Fwd IAT Std',\n",
       "       ' Fwd IAT Max', ' Fwd IAT Min', 'Bwd IAT Total', ' Bwd IAT Mean',\n",
       "       ' Bwd IAT Std', ' Bwd IAT Max', ' Bwd IAT Min', 'Fwd PSH Flags',\n",
       "       ' Bwd PSH Flags', ' Fwd URG Flags', ' Bwd URG Flags',\n",
       "       ' Fwd Header Length', ' Bwd Header Length', 'Fwd Packets/s',\n",
       "       ' Bwd Packets/s', ' Min Packet Length', ' Max Packet Length',\n",
       "       ' Packet Length Mean', ' Packet Length Std', ' Packet Length Variance',\n",
       "       'FIN Flag Count', ' SYN Flag Count', ' RST Flag Count',\n",
       "       ' PSH Flag Count', ' ACK Flag Count', ' URG Flag Count',\n",
       "       ' CWE Flag Count', ' ECE Flag Count', ' Down/Up Ratio',\n",
       "       ' Average Packet Size', ' Avg Fwd Segment Size',\n",
       "       ' Avg Bwd Segment Size', ' Fwd Header Length.1', 'Fwd Avg Bytes/Bulk',\n",
       "       ' Fwd Avg Packets/Bulk', ' Fwd Avg Bulk Rate', ' Bwd Avg Bytes/Bulk',\n",
       "       ' Bwd Avg Packets/Bulk', 'Bwd Avg Bulk Rate', 'Subflow Fwd Packets',\n",
       "       ' Subflow Fwd Bytes', ' Subflow Bwd Packets', ' Subflow Bwd Bytes',\n",
       "       'Init_Win_bytes_forward', ' Init_Win_bytes_backward',\n",
       "       ' act_data_pkt_fwd', ' min_seg_size_forward', 'Active Mean',\n",
       "       ' Active Std', ' Active Max', ' Active Min', 'Idle Mean', ' Idle Std',\n",
       "       ' Idle Max', ' Idle Min', ' Label'],\n",
       "      dtype='object')"
      ]
     },
     "execution_count": 21,
     "metadata": {},
     "output_type": "execute_result"
    }
   ],
   "execution_count": 21
  },
  {
   "metadata": {
    "ExecuteTime": {
     "end_time": "2024-12-12T11:59:25.508663Z",
     "start_time": "2024-12-12T11:59:25.398164Z"
    }
   },
   "cell_type": "code",
   "source": [
    "for key, val in {'dapt20': 5, 'scvic-apt-2021': 6, 'mscad': 6}:\n",
    "    print(key)\n",
    "    print(val)"
   ],
   "id": "fc6f9111b6a83e1c",
   "outputs": [
    {
     "ename": "ValueError",
     "evalue": "too many values to unpack (expected 2)",
     "output_type": "error",
     "traceback": [
      "\u001B[1;31m---------------------------------------------------------------------------\u001B[0m",
      "\u001B[1;31mValueError\u001B[0m                                Traceback (most recent call last)",
      "Cell \u001B[1;32mIn[14], line 1\u001B[0m\n\u001B[1;32m----> 1\u001B[0m \u001B[38;5;28;01mfor\u001B[39;00m key, val \u001B[38;5;129;01min\u001B[39;00m {\u001B[38;5;124m'\u001B[39m\u001B[38;5;124mdapt20\u001B[39m\u001B[38;5;124m'\u001B[39m: \u001B[38;5;241m5\u001B[39m, \u001B[38;5;124m'\u001B[39m\u001B[38;5;124mscvic-apt-2021\u001B[39m\u001B[38;5;124m'\u001B[39m: \u001B[38;5;241m6\u001B[39m, \u001B[38;5;124m'\u001B[39m\u001B[38;5;124mmscad\u001B[39m\u001B[38;5;124m'\u001B[39m: \u001B[38;5;241m6\u001B[39m}:\n\u001B[0;32m      2\u001B[0m     \u001B[38;5;28mprint\u001B[39m(key)\n\u001B[0;32m      3\u001B[0m     \u001B[38;5;28mprint\u001B[39m(val)\n",
      "\u001B[1;31mValueError\u001B[0m: too many values to unpack (expected 2)"
     ]
    }
   ],
   "execution_count": 14
  },
  {
   "metadata": {
    "ExecuteTime": {
     "end_time": "2024-12-13T10:59:54.610732Z",
     "start_time": "2024-12-13T10:59:54.598875Z"
    }
   },
   "cell_type": "code",
   "source": [
    "import pandas as pd\n",
    "from sklearn.metrics import confusion_matrix\n",
    "y_true = [2, 0, 2, 2, 0, 1]\n",
    "y_pred = [0, 0, 2, 2, 0, 2]\n",
    "cm = confusion_matrix(y_true, y_pred)\n",
    "\n",
    "df = pd.DataFrame(cm)\n",
    "\n",
    "df.to_csv('./cm.csv')"
   ],
   "id": "7d185c1f1dea1d9",
   "outputs": [],
   "execution_count": 16
  },
  {
   "metadata": {
    "ExecuteTime": {
     "end_time": "2024-12-13T11:40:20.218398Z",
     "start_time": "2024-12-13T11:40:20.211900Z"
    }
   },
   "cell_type": "code",
   "source": [
    "import torch\n",
    "\n",
    "t = torch.tensor([1, 2, 3])\n",
    "\n",
    "t.dtype"
   ],
   "id": "4c2182d7508d84f8",
   "outputs": [
    {
     "data": {
      "text/plain": [
       "torch.int64"
      ]
     },
     "execution_count": 20,
     "metadata": {},
     "output_type": "execute_result"
    }
   ],
   "execution_count": 20
  },
  {
   "metadata": {},
   "cell_type": "code",
   "outputs": [],
   "execution_count": null,
   "source": "",
   "id": "91b55f796f3a3f6e"
  }
 ],
 "metadata": {
  "kernelspec": {
   "display_name": "Python 3",
   "language": "python",
   "name": "python3"
  },
  "language_info": {
   "codemirror_mode": {
    "name": "ipython",
    "version": 2
   },
   "file_extension": ".py",
   "mimetype": "text/x-python",
   "name": "python",
   "nbconvert_exporter": "python",
   "pygments_lexer": "ipython2",
   "version": "2.7.6"
  }
 },
 "nbformat": 4,
 "nbformat_minor": 5
}
